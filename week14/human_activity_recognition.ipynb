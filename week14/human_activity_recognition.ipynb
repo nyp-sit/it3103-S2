{
  "nbformat": 4,
  "nbformat_minor": 0,
  "metadata": {
    "colab": {
      "name": "human-activity-recognition.ipynb",
      "provenance": [],
      "collapsed_sections": [],
      "include_colab_link": true
    },
    "kernelspec": {
      "display_name": "Python 3",
      "language": "python",
      "name": "python3"
    },
    "language_info": {
      "codemirror_mode": {
        "name": "ipython",
        "version": 3
      },
      "file_extension": ".py",
      "mimetype": "text/x-python",
      "name": "python",
      "nbconvert_exporter": "python",
      "pygments_lexer": "ipython3",
      "version": "3.7.6"
    },
    "accelerator": "GPU"
  },
  "cells": [
    {
      "cell_type": "markdown",
      "metadata": {
        "id": "view-in-github",
        "colab_type": "text"
      },
      "source": [
        "<a href=\"https://colab.research.google.com/github/nyp-sit/it3103/blob/main/week15/human_activity_recognition.ipynb\" target=\"_parent\"><img src=\"https://colab.research.google.com/assets/colab-badge.svg\" alt=\"Open In Colab\"/></a>"
      ]
    },
    {
      "cell_type": "markdown",
      "metadata": {
        "id": "fYr0jAYAexJw"
      },
      "source": [
        "# Human Activity Recognition using 2D-Pose\n",
        "\n",
        "In this practical, we will be developing a model to recognise activities such as jumping, boxing, waving 1 hand, etc. The activity is defined as a sequence of human poses (given by keypoints of skeletal joints) and these poses are estimated by a pretrained model (Google's PoseNet).\n"
      ]
    },
    {
      "cell_type": "markdown",
      "metadata": {
        "id": "wbeL6tzpexJw"
      },
      "source": [
        "## Section 1 - Import Libraries and Setup Folders\n",
        "\n",
        "Let's import all the necessary libraries"
      ]
    },
    {
      "cell_type": "code",
      "metadata": {
        "id": "G-IziWQLgvOZ"
      },
      "source": [
        "import pandas as pd\n",
        "import os\n",
        "import numpy as np\n",
        "import math\n",
        "from tqdm import tqdm\n",
        "from datetime import datetime\n",
        "import matplotlib.pyplot as plt\n",
        "import matplotlib.animation as animation\n",
        "from matplotlib import rc\n",
        "\n",
        "import tensorflow as tf\n",
        "import tensorflow.keras as keras\n",
        "from tensorflow.keras.models import Sequential\n",
        "from tensorflow.keras.layers import Dense, Activation, Input, Bidirectional, Dropout, LSTM, TimeDistributed, Flatten\n"
      ],
      "execution_count": null,
      "outputs": []
    },
    {
      "cell_type": "markdown",
      "metadata": {
        "id": "M3x1GEVREecO"
      },
      "source": [
        "## Section 2 - Dataset\n",
        "\n",
        "We will be using the following dataset from \n",
        "https://github.com/stuarteiffert/RNN-for-Human-Activity-Recognition-using-2D-Pose-Input\n",
        "\n",
        "The data is 2D positions (x,y coordinates) of 18 joints across a timeseries of 32 frames (window-width), with an associated class label for the frame series.\n",
        "\n",
        "The dataset consist of the following files:\n",
        "- X_test.txt : testing dataset x inputs (36 keypoints per line, 32 lines per datapoint)\n",
        "- X_train.txt : training dataset x inputs (36 keypoints per line, 32 lines per datapoint)\n",
        "- X_val.txt : validation dataset x inputs (36 keypoints per line, 32 lines per datapoint)\n",
        "- Y_test.txt : testing class labels\n",
        "- Y_train.txt : training class labels\n",
        "- Y_val.txt : validation class labels"
      ]
    },
    {
      "cell_type": "code",
      "metadata": {
        "id": "mtw7A3kzexJw"
      },
      "source": [
        "!wget https://nyp-aicourse.s3.ap-southeast-1.amazonaws.com/it3103/2D-Pose-Data.zip\n",
        "!unzip 2D-Pose-Data.zip"
      ],
      "execution_count": null,
      "outputs": []
    },
    {
      "cell_type": "code",
      "metadata": {
        "id": "-Euwp_RcR4aD"
      },
      "source": [
        "train_df = pd.read_csv('2D-Pose-Data/X_train.txt', header=None)\n",
        "train_label_df = pd.read_csv('2D-Pose-Data/Y_train.txt', header=None)\n",
        "test_df = pd.read_csv('2D-Pose-Data/X_test.txt', header=None)\n",
        "test_label_df = pd.read_csv('2D-Pose-Data/Y_test.txt', header=None)"
      ],
      "execution_count": null,
      "outputs": []
    },
    {
      "cell_type": "code",
      "metadata": {
        "id": "ZhxD-86oSAzL"
      },
      "source": [
        "#examine first few rows\n",
        "train_df.head()"
      ],
      "execution_count": null,
      "outputs": []
    },
    {
      "cell_type": "code",
      "metadata": {
        "id": "UZJVDsIRDf4w"
      },
      "source": [
        "#check the distribution of the labels\n",
        "train_label_df.value_counts()"
      ],
      "execution_count": null,
      "outputs": []
    },
    {
      "cell_type": "markdown",
      "metadata": {
        "id": "w1z2XzC0IJIi"
      },
      "source": [
        "## Section 3- Create the input data\n",
        "\n",
        "We cannot use the panda dataframe (which is 2D) directly with our LSTM network. We need to create a dataset that consists sequence of 32 timesteps (frames) of 36 keypoints. In other words, we need our data to be of the shape (batch_size, 32, 36).\n",
        "\n",
        "In addition, we saw earlier that our labels starts from 1 to 6 (total of 6 classes). However, the deep learning model will predict labels starting from 0 to 5.  So we need to map the labels to 0-5 by subtracting the original values by 1. \n",
        "\n",
        "Our labels are the following: \n",
        "\n",
        "```\n",
        "labels = [\"JUMPING\", \"JUMPING_JACKS\", \"BOXING\", \"WAVING_2HANDS\", \"WAVING_1HAND\", \"CLAPPING_HANDS\"]\n",
        "```"
      ]
    },
    {
      "cell_type": "code",
      "metadata": {
        "id": "sw6oxTf_Jmhb"
      },
      "source": [
        "# convert the dataframe to numpy array and bunch every 32 rows together as a sequence of 32 timesteps\n",
        "X_train = train_df.to_numpy().reshape(-1, 32, 36)\n",
        "\n",
        "# convert labels from 1-6 to 0-5.\n",
        "y_train = train_label_df.to_numpy() - 1\n",
        "\n",
        "print(X_train.shape)\n",
        "print(y_train.shape)"
      ],
      "execution_count": null,
      "outputs": []
    },
    {
      "cell_type": "code",
      "metadata": {
        "id": "Id9GKIVJLKLs"
      },
      "source": [
        "X_test = test_df.to_numpy().reshape(-1, 32, 36)\n",
        "y_test = test_label_df.to_numpy() - 1\n",
        "\n",
        "print(X_test.shape)\n",
        "print(y_test.shape)"
      ],
      "execution_count": null,
      "outputs": []
    },
    {
      "cell_type": "markdown",
      "metadata": {
        "id": "pRpqIItcr_iC"
      },
      "source": [
        "## Section 4 - Visualize Our Dataset\n",
        "\n"
      ]
    },
    {
      "cell_type": "markdown",
      "metadata": {
        "id": "UskFsQfRxAya"
      },
      "source": [
        "We can view each frame as a timestep on the x-axis, and each of the 36 numbers (the x and y coordinates of 18 joints) as individual line plots.  It provides some visual clue as to how the different joints move over time, but they are still difficult to imagine and visualize."
      ]
    },
    {
      "cell_type": "code",
      "metadata": {
        "id": "DrMOwZuswwAb"
      },
      "source": [
        "%matplotlib inline \n",
        "sample = 0\n",
        "plt.plot(X_train[sample])\n",
        "plt.show()"
      ],
      "execution_count": null,
      "outputs": []
    },
    {
      "cell_type": "markdown",
      "metadata": {
        "id": "RQSbweXAxdm7"
      },
      "source": [
        "A better way to visualize is do a scatter plot of the X and Y coordianates of the various joints and animating them so that we can see their movements over time.\n",
        "\n",
        "NOTE: These are the various types of actions captured in the dataset:\n",
        "JUMPING, JUMPING_JACKS, BOXING, WAVING_2HANDS, WAVING_1HAND\", \"CLAPPING_HANDS\""
      ]
    },
    {
      "cell_type": "code",
      "metadata": {
        "id": "UOY6GK6MYiiE"
      },
      "source": [
        "sample = 0\n",
        "\n",
        "# This function returns a set of data for every frame that is\n",
        "# called from the animation.FuncAnimation below.\n",
        "#\n",
        "def animate_pose(frame):\n",
        "    # Retrieve the even number values as X-coordinates\n",
        "    # and the odd number values as Y-coordinates\n",
        "    #\n",
        "    # Once you have these 2 sets of values, you can\n",
        "    # pass them into the line.set_data to get matplotlib\n",
        "    # to draw a scatter plot \n",
        "    #\n",
        "    graph_x = X_train[sample][frame][0::2]\n",
        "    graph_y = X_train[sample][frame][1::2]\n",
        "    line.set_data(graph_x, graph_y)\n",
        "    return line,\n",
        "\n",
        "fig, ax = plt.subplots()\n",
        "plt.close()\n",
        "\n",
        "ax.set_xlim(0, 800)\n",
        "ax.set_ylim(600, 0)\n",
        "\n",
        "line, = ax.plot([], [], 'o', color='black');\n",
        "\n",
        "anim = animation.FuncAnimation(fig, animate_pose, 32,  interval=50, blit=True)\n",
        "rc('animation', html='jshtml')\n",
        "anim"
      ],
      "execution_count": null,
      "outputs": []
    },
    {
      "cell_type": "markdown",
      "metadata": {
        "id": "m6y1JZMtexJx"
      },
      "source": [
        "## Section 5 - Define and Train Your Model\n",
        "\n",
        "We will next create a model using LSTM layer to process sequence (time-series) data. We will start with very simple model, consisting of only a single LSTM layer followed by Dense layer for classification. We will also add in Dropout layer. \n",
        "\n",
        "Since our target label is not one-hot-encoded, we will specify `sparse_categorical_crossentropy` as our loss function.\n",
        "\n",
        "You may find that a good validation accuracy for you model may hover near about 85-90%. "
      ]
    },
    {
      "cell_type": "code",
      "metadata": {
        "id": "9B41N94QexJx"
      },
      "source": [
        "# Create our LSTM model here\n",
        "#\n",
        "def create_model():\n",
        "\n",
        "    # Use Keras to create a Sequential model here with any layers that \n",
        "    # you'd like.\n",
        "    #\n",
        "    model = Sequential()\n",
        "\n",
        "    model.add(LSTM(128, input_shape=(32, 36)))\n",
        "    model.add(Dropout(0.2))\n",
        "\n",
        "    model.add(Dense(6, activation='softmax'))\n",
        "\n",
        "    model.compile(loss='sparse_categorical_crossentropy', optimizer='adam', metrics=['accuracy'])\n",
        "    model.summary()\n",
        "    return model\n"
      ],
      "execution_count": null,
      "outputs": []
    },
    {
      "cell_type": "code",
      "metadata": {
        "id": "mp2m44zdRwCq"
      },
      "source": [
        "model = create_model()\n",
        "\n",
        "# create tensorboard log directory \n",
        "root_logdir = os.path.join(os.curdir, \"tb_logs\")\n",
        "\n",
        "def get_run_logdir():    # use a new directory for each run\n",
        "    import time\n",
        "    run_id = time.strftime(\"run_%Y_%m_%d-%H_%M_%S\")\n",
        "    logdir = os.path.join(root_logdir, run_id)\n",
        "    os.makedirs(logdir, exist_ok=True)\n",
        "    return logdir \n",
        "\n",
        "run_logdir = get_run_logdir()\n",
        "tensorboard_callback = keras.callbacks.TensorBoard(log_dir=run_logdir)\n",
        "checkpoint_callback = keras.callbacks.ModelCheckpoint(filepath=run_logdir + '/model.{epoch:04d}-val_acc-{val_accuracy:4.2f}-loss-{val_loss:4.2f}.h5',\n",
        "                                                      monitor='val_loss', save_best_only=True)\n",
        "earlystop_callback = keras.callbacks.EarlyStopping(monitor='val_loss', patience=10, restore_best_weights=True)\n",
        "\n",
        "# Train our model\n",
        "#\n",
        "model.fit(x=X_train, y=y_train, \n",
        "          batch_size=256, \n",
        "          epochs=40,\n",
        "          validation_data=(X_test, y_test),\n",
        "          callbacks=[tensorboard_callback, checkpoint_callback, earlystop_callback], \n",
        "          verbose=1)"
      ],
      "execution_count": null,
      "outputs": []
    },
    {
      "cell_type": "code",
      "metadata": {
        "id": "OoShmjSeUhFY"
      },
      "source": [
        "%load_ext tensorboard \n",
        "%tensorboard --logdir tb_logs"
      ],
      "execution_count": null,
      "outputs": []
    },
    {
      "cell_type": "markdown",
      "metadata": {
        "id": "ala7NfYFdNZ0"
      },
      "source": [
        "## Section 6 - Scale / Translation Normalization\n",
        "\n",
        "So far, we have not talked about how we can normalize our skeletal keypoints so that the pose data is scale / translation invariant. This means that regardless of how far the person is from the camera, or when the person moves left or right or up or down, the coordinates of all joint positions should always be relative to a fixed frame of reference.\n",
        "\n",
        "To take care of translation (left / right / up / down) invariance, we are shift all points together so that neck point is always placed at (0, 0). \n",
        "\n",
        "To take care of scale invariance, we estimate the torso height (which is either the length of the neck point to either hip, or the width of the shoulders). We then divide all joint coordinates by the torso height.\n",
        "\n",
        "To do so, we will create a `process_joints()` function to include code to normalize the skeleton key points as described above:\n",
        "\n",
        "1. ref = P[1] or the midpoint of P[2], P[5]\n",
        "2. reflength = length(ref to P[8]) or length(ref to P[11]) \n",
        "3. Compute \n",
        "   - P[i].x = (P[i].x - ref.x) / reflength\n",
        "   - P[i].y = (P[i].y - ref.y) / reflength\n"
      ]
    },
    {
      "cell_type": "code",
      "metadata": {
        "id": "qjjvsyUVdMMS"
      },
      "source": [
        "# Declare a function that can compute length (euclidean distance) between two points\n",
        "#   (x1,y1) - (x2,y2)\n",
        "def compute_length(x1, y1, x2, y2):\n",
        "    return math.sqrt((x1-x2)*(x1-x2) + (y1-y2)*(y1-y2))\n",
        "\n",
        "# Process OpenPose's Joints\n",
        "\n",
        "# NOTE: The \"keypoints\" parameter consists of an array of consecutive x and y values \n",
        "# within the same array.\n",
        "# keypoints = [p0.x, p0.y, p1.x, p1.y, p2.x, p2.y, ..., p17.x, p17.y] (a total of 36 values) \n",
        "def process_joints(keypoints):\n",
        "\n",
        "    normalized_keypoints = [0] * 36\n",
        "\n",
        "    refx = 0\n",
        "    refy = 0\n",
        "    reflength = 1\n",
        "\n",
        "    # Step 1: Let's find the reference point (neck)\n",
        "    #\n",
        "    if keypoints[2] != 0 or keypoints[3] != 0:         \n",
        "        refx = keypoints[2]                # use the neck X, Y\n",
        "        refy = keypoints[3]\n",
        "    elif (keypoints[4] != 0 or keypoints[5] != 0) and (keypoints[10] != 0 or keypoints[11] != 0):\n",
        "        refx = (keypoints[4] + keypoints[10]) / 2  # estimate the neck X, Y from the mid point\n",
        "        refy = (keypoints[5] + keypoints[11]) / 2  # of the left/right shoulder\n",
        "    \n",
        "    # Step 2: Let's estimate the torso length.\n",
        "    #\n",
        "    if keypoints[16] != 0 and keypoints[17] != 0:             \n",
        "        reflength = compute_length(keypoints[16], keypoints[17], refx, refy)   # neck to right hip\n",
        "    elif keypoints[22] != 0 and keypoints[23] != 0:\n",
        "        reflength = compute_length(keypoints[22], keypoints[23], refx, refy)   # neck to left hip\n",
        "\n",
        "    # Step 3:\n",
        "    # Perform the translation and the scaling.\n",
        "    #\n",
        "    for i in range(0, 18):\n",
        "        normalized_keypoints[i*2] = (keypoints[i*2] - refx) / reflength\n",
        "        normalized_keypoints[i*2 + 1] = (keypoints[i*2 + 1] - refy) / reflength\n",
        "    \n",
        "    # Return the re-mapped and normalized result\n",
        "    #\n",
        "    return normalized_keypoints\n"
      ],
      "execution_count": null,
      "outputs": []
    },
    {
      "cell_type": "markdown",
      "metadata": {
        "id": "dthGzvKvVUeI"
      },
      "source": [
        "We will apply the normalization to each row of keypoints (36 keypoints). We use `itertuples()` to iterate through each row of dataframe. "
      ]
    },
    {
      "cell_type": "code",
      "metadata": {
        "id": "PNlVT7odnCNM"
      },
      "source": [
        "def normalize(df):\n",
        "    X = []\n",
        "    for row in tqdm(df.itertuples(index=False)):\n",
        "        X.append(process_joints(row))\n",
        "    \n",
        "    X = np.array(X)\n",
        "    return X"
      ],
      "execution_count": null,
      "outputs": []
    },
    {
      "cell_type": "code",
      "metadata": {
        "id": "Pt3zurWxl4G0"
      },
      "source": [
        "X_train_normalized = normalize(train_df).reshape(-1, 32, 36)\n",
        "X_test_normalized = normalize(test_df).reshape(-1, 32, 36)"
      ],
      "execution_count": null,
      "outputs": []
    },
    {
      "cell_type": "code",
      "metadata": {
        "id": "gPV9iTa0c6Io"
      },
      "source": [
        "model = create_model()\n",
        "\n",
        "run_logdir = get_run_logdir()\n",
        "tensorboard_callback = keras.callbacks.TensorBoard(log_dir=run_logdir)\n",
        "checkpoint_callback = keras.callbacks.ModelCheckpoint(filepath=run_logdir + '/model.{epoch:04d}-val_acc-{val_accuracy:4.2f}-loss-{val_loss:4.2f}.h5',\n",
        "                                                      monitor='val_loss', save_best_only=True)\n",
        "earlystop_callback = keras.callbacks.EarlyStopping(monitor='val_loss', patience=10, restore_best_weights=True)\n",
        "\n",
        "# Train our model\n",
        "model.fit(x=X_train_normalized, y=y_train, \n",
        "          batch_size=256, \n",
        "          epochs=40,\n",
        "          validation_data=(X_test_normalized, y_test),\n",
        "          callbacks=[tensorboard_callback, checkpoint_callback, earlystop_callback], \n",
        "          verbose=1)\n"
      ],
      "execution_count": null,
      "outputs": []
    },
    {
      "cell_type": "markdown",
      "metadata": {
        "id": "9x89QoQEYQQE"
      },
      "source": [
        "## Section 7 - Evaluate Model Performance"
      ]
    },
    {
      "cell_type": "code",
      "metadata": {
        "id": "UQxWAL8vYh6B"
      },
      "source": [
        "labels = [\"JUMPING\", \"JUMPING_JACKS\", \"BOXING\", \"WAVING_2HANDS\", \"WAVING_1HAND\", \"CLAPPING_HANDS\"]\n",
        "\n",
        "import numpy as np\n",
        "import pandas as pd\n",
        "from sklearn.metrics import confusion_matrix, classification_report\n",
        "import seaborn as sns\n",
        "import matplotlib.pyplot as plt\n",
        "from functools import reduce\n",
        " \n",
        "def display_classification_confusion_matrix(keras_model, x_train, y_train, x_test, y_test, labels):\n",
        "    \n",
        "    '''\n",
        "    x_train = []\n",
        "    x_test = []\n",
        "    y_train = []\n",
        "    y_test = []\n",
        "    '''\n",
        " \n",
        "    print(x_train.shape)\n",
        "    train_preds = keras_model.predict(x_train)\n",
        "    test_preds = keras_model.predict(x_test)\n",
        "    train_preds = np.argmax(train_preds, axis=1)\n",
        "    test_preds = np.argmax(test_preds, axis=1)\n",
        "    \n",
        "    plt.figure(figsize=(20,6))  \n",
        "\n",
        "    labels = np.array(labels)\n",
        "    # Print the first Confusion Matrix for the training data\n",
        "    #\n",
        "    cm = confusion_matrix(y_train, train_preds)\n",
        "\n",
        "    cm_df = pd.DataFrame(cm, labels, labels)          \n",
        "    plt.subplot(1, 2, 1)\n",
        "    plt.title('Confusion Matrix (Train Data)')\n",
        "    sns.heatmap(cm_df, annot=True)\n",
        "    plt.ylabel('Actual')\n",
        "    plt.xlabel('Predicted')        \n",
        "    \n",
        "    # Print the second Confusion Matrix for the test data\n",
        "    #    \n",
        "    cm = confusion_matrix(y_test, test_preds)\n",
        "    \n",
        "    cm_df = pd.DataFrame(cm, labels, labels)          \n",
        "    plt.subplot(1, 2, 2)\n",
        "    plt.title('Confusion Matrix (Test Data)')\n",
        "    sns.heatmap(cm_df, annot=True)\n",
        "    plt.ylabel('Actual')\n",
        "    plt.xlabel('Predicted')        \n",
        "    \n",
        "    plt.show()\n",
        "\n",
        "    # Finally display the classification reports\n",
        "    #\n",
        "    print (\"Train Data:\")\n",
        "    print (\"--------------------------------------------------------\")\n",
        "    print(classification_report(y_train, train_preds, target_names=labels))\n",
        "    print (\"\")\n",
        "    print (\"Test Data:\")\n",
        "    print (\"--------------------------------------------------------\")\n",
        "    print(classification_report(y_test, test_preds, target_names=labels))\n",
        "    \n",
        "\n",
        "display_classification_confusion_matrix(model, X_train_normalized, y_train, X_test_normalized, y_test, labels)"
      ],
      "execution_count": null,
      "outputs": []
    },
    {
      "cell_type": "markdown",
      "metadata": {
        "id": "GZELiB8MWdqt"
      },
      "source": [
        "## Section 8 - Save and Download Model\n",
        "\n",
        "Run the following cell to save your model. \n"
      ]
    },
    {
      "cell_type": "code",
      "metadata": {
        "id": "-uR1wAHpWjsm"
      },
      "source": [
        "model.save(\"activity_model\")"
      ],
      "execution_count": null,
      "outputs": []
    },
    {
      "cell_type": "markdown",
      "metadata": {
        "id": "X1lEmBxaX1L4"
      },
      "source": [
        "Run the following the zip the \"model.savedmodel\" folder into a single zip file.\n",
        "\n",
        "Download that zip file from Colab once you are done! We will be using this for the next practical exercise."
      ]
    },
    {
      "cell_type": "code",
      "metadata": {
        "id": "W_ofnOO6XR6K"
      },
      "source": [
        "!zip activity_model.zip -r activity_model"
      ],
      "execution_count": null,
      "outputs": []
    },
    {
      "cell_type": "code",
      "metadata": {
        "id": "aTissY5hib6b"
      },
      "source": [
        "model = keras.models.load_model('activity_model')"
      ],
      "execution_count": null,
      "outputs": []
    },
    {
      "cell_type": "code",
      "metadata": {
        "id": "VQICBCSpiunz"
      },
      "source": [
        "model.summary()"
      ],
      "execution_count": null,
      "outputs": []
    },
    {
      "cell_type": "code",
      "metadata": {
        "id": "nH8G--L3j-3l"
      },
      "source": [
        "sample_index = 2000\n",
        "sample = X_test_normalized[sample_index]\n",
        "label = np.squeeze(y_test)[sample_index]\n"
      ],
      "execution_count": null,
      "outputs": []
    },
    {
      "cell_type": "code",
      "metadata": {
        "id": "jFNSGnxIi0CB"
      },
      "source": [
        "sample = np.expand_dims(sample, axis=0)"
      ],
      "execution_count": null,
      "outputs": []
    },
    {
      "cell_type": "code",
      "metadata": {
        "id": "_OUGrQT2jVz6"
      },
      "source": [
        "pred = model(sample)\n",
        "print(pred)"
      ],
      "execution_count": null,
      "outputs": []
    },
    {
      "cell_type": "code",
      "metadata": {
        "id": "rBmuHkffjehb"
      },
      "source": [
        "print('actual = {}'.format(labels[label]))\n",
        "print('predicted = {}'.format(labels[np.argmax(pred)]))"
      ],
      "execution_count": null,
      "outputs": []
    }
  ]
}